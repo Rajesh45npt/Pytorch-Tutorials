{
 "cells": [
  {
   "cell_type": "markdown",
   "metadata": {},
   "source": [
    "# Pytorch \n",
    "|__Functions__|__Descriptions__|\n",
    "|:-----|:--------|\n",
    "torch.empty()|creates uninitailized tensor\n",
    "torch.rand()| creates tensor with elements random between 0 and 1 with uniform distribution\n",
    "torch.zeros | creates tensor with 0 elements\n",
    "torch.tensor() | creates tensor from given elements\n",
    "a.new_empty()/a.new_ones()/torch.rand_like(a, )| creates tensor with property similar to tensor __a__\n",
    "x.size()| shows the size of the tensor x\n",
    "a+b / torch.add(a,b) / a.add(b) / torch.add(a,b, result=out) | add tensors a and b\n",
    "a.add_(b) | add tensor b to tensor a inplace\n",
    "__Any operation that mutates a tensor in place is post-fixed with an a _ like in x.copy_(y), x.t_() will change x__\n",
    "x.copy_(y) | copies y inplace into x\n",
    "x.t_() | transpose x inplace\n",
    "x.view() | return tensor in another shape passed as an argument\n",
    "x.item() | __Return one element tensor to a python value__\n",
    "b=a.numpy() | change the tensor to numpy array\n",
    "a=torch.from_numpy(a) | tensor from numpy array\n",
    "device = torch.device(\"cuda\") / y = torch.ones_like(x, device=device) / x.to(device) / x.to(\"cpu\", torch.double) | Move the tensor between cpu and gpu"
   ]
  },
  {
   "cell_type": "code",
   "execution_count": 1,
   "metadata": {},
   "outputs": [],
   "source": [
    "import torch\n"
   ]
  },
  {
   "cell_type": "code",
   "execution_count": 2,
   "metadata": {},
   "outputs": [
    {
     "name": "stdout",
     "output_type": "stream",
     "text": [
      "tensor([[ 2.7380e-20,  4.5688e-41,  2.7380e-20],\n",
      "        [ 4.5688e-41,  0.0000e+00,  0.0000e+00],\n",
      "        [ 0.0000e+00,  0.0000e+00,  2.8026e-45],\n",
      "        [ 0.0000e+00, -6.2445e-08,  4.5687e-41],\n",
      "        [-3.5466e-15,  3.0861e-41,         nan]])\n",
      "torch.Size([5, 3])\n"
     ]
    }
   ],
   "source": [
    "x = torch.empty(5,3)\n",
    "print(x)\n",
    "print(x.shape)"
   ]
  },
  {
   "cell_type": "code",
   "execution_count": 3,
   "metadata": {
    "scrolled": true
   },
   "outputs": [
    {
     "name": "stdout",
     "output_type": "stream",
     "text": [
      "tensor([[0.8102, 0.8560, 0.8579],\n",
      "        [0.7475, 0.6144, 0.1760],\n",
      "        [0.0621, 0.6057, 0.2172],\n",
      "        [0.9617, 0.4239, 0.2645],\n",
      "        [0.4422, 0.4630, 0.0805]])\n"
     ]
    }
   ],
   "source": [
    "x = torch.rand(5,3)\n",
    "print(x)"
   ]
  },
  {
   "cell_type": "code",
   "execution_count": 4,
   "metadata": {},
   "outputs": [
    {
     "name": "stdout",
     "output_type": "stream",
     "text": [
      "tensor([[0, 0, 0],\n",
      "        [0, 0, 0],\n",
      "        [0, 0, 0],\n",
      "        [0, 0, 0],\n",
      "        [0, 0, 0]])\n"
     ]
    }
   ],
   "source": [
    "x = torch.zeros(5,3, dtype=torch.long)\n",
    "print(x)"
   ]
  },
  {
   "cell_type": "code",
   "execution_count": 5,
   "metadata": {},
   "outputs": [
    {
     "name": "stdout",
     "output_type": "stream",
     "text": [
      "tensor([5.5000, 3.0000])\n",
      "torch.Size([2])\n"
     ]
    }
   ],
   "source": [
    "x = torch.tensor([5.5,3])\n",
    "print(x)\n",
    "print(x.shape)"
   ]
  },
  {
   "cell_type": "code",
   "execution_count": 6,
   "metadata": {},
   "outputs": [
    {
     "name": "stdout",
     "output_type": "stream",
     "text": [
      "tensor([[1., 1., 1.],\n",
      "        [1., 1., 1.],\n",
      "        [1., 1., 1.],\n",
      "        [1., 1., 1.],\n",
      "        [1., 1., 1.]], dtype=torch.float64)\n"
     ]
    }
   ],
   "source": [
    "x = x.new_ones(5,3, dtype=torch.double)\n",
    "print(x)"
   ]
  },
  {
   "cell_type": "code",
   "execution_count": 7,
   "metadata": {},
   "outputs": [
    {
     "name": "stdout",
     "output_type": "stream",
     "text": [
      "tensor([[-0.4315,  0.5470,  1.3529],\n",
      "        [-0.3887, -0.2623,  0.5266],\n",
      "        [-1.1585, -0.0649, -0.9278],\n",
      "        [ 0.2952, -0.3721, -0.1570],\n",
      "        [ 1.2015, -0.3277,  1.7006]])\n"
     ]
    }
   ],
   "source": [
    "x = torch.randn_like(x, dtype=torch.float)\n",
    "print(x)"
   ]
  },
  {
   "cell_type": "code",
   "execution_count": 8,
   "metadata": {},
   "outputs": [
    {
     "name": "stdout",
     "output_type": "stream",
     "text": [
      "torch.Size([5, 3])\n"
     ]
    }
   ],
   "source": [
    "print(x.size())"
   ]
  },
  {
   "cell_type": "code",
   "execution_count": 9,
   "metadata": {},
   "outputs": [
    {
     "name": "stdout",
     "output_type": "stream",
     "text": [
      "tensor([[-0.8630,  1.0940,  2.7057],\n",
      "        [-0.7773, -0.5246,  1.0532],\n",
      "        [-2.3170, -0.1299, -1.8556],\n",
      "        [ 0.5905, -0.7442, -0.3139],\n",
      "        [ 2.4029, -0.6554,  3.4012]])\n",
      "tensor([[-0.8630,  1.0940,  2.7057],\n",
      "        [-0.7773, -0.5246,  1.0532],\n",
      "        [-2.3170, -0.1299, -1.8556],\n",
      "        [ 0.5905, -0.7442, -0.3139],\n",
      "        [ 2.4029, -0.6554,  3.4012]])\n"
     ]
    }
   ],
   "source": [
    "print(x+x)\n",
    "print(torch.add(x,x))"
   ]
  },
  {
   "cell_type": "code",
   "execution_count": 11,
   "metadata": {},
   "outputs": [
    {
     "name": "stdout",
     "output_type": "stream",
     "text": [
      "tensor([[-1.5147e-14,  3.0861e-41,  2.7057e+00],\n",
      "        [-7.7731e-01, -5.2464e-01,  1.0532e+00],\n",
      "        [-2.3170e+00, -1.2988e-01, -1.8556e+00],\n",
      "        [ 5.9046e-01, -7.4418e-01, -3.1395e-01],\n",
      "        [ 2.4029e+00, -6.5539e-01,  3.4012e+00]])\n",
      "tensor([[-0.8630,  1.0940,  2.7057],\n",
      "        [-0.7773, -0.5246,  1.0532],\n",
      "        [-2.3170, -0.1299, -1.8556],\n",
      "        [ 0.5905, -0.7442, -0.3139],\n",
      "        [ 2.4029, -0.6554,  3.4012]])\n"
     ]
    }
   ],
   "source": [
    "result = torch.empty(5,3)\n",
    "print(result)\n",
    "torch.add(x,x, out=result)\n",
    "print(result)"
   ]
  },
  {
   "cell_type": "code",
   "execution_count": 13,
   "metadata": {},
   "outputs": [
    {
     "name": "stdout",
     "output_type": "stream",
     "text": [
      "tensor([[1., 1., 1.],\n",
      "        [1., 1., 1.],\n",
      "        [1., 1., 1.],\n",
      "        [1., 1., 1.],\n",
      "        [1., 1., 1.]])\n",
      "tensor([[ 0.5685,  1.5470,  2.3529],\n",
      "        [ 0.6113,  0.7377,  1.5266],\n",
      "        [-0.1585,  0.9351,  0.0722],\n",
      "        [ 1.2952,  0.6279,  0.8430],\n",
      "        [ 2.2015,  0.6723,  2.7006]])\n"
     ]
    }
   ],
   "source": [
    "y= torch.ones_like(x)\n",
    "print(y)\n",
    "y.add_(x)\n",
    "print(y)"
   ]
  },
  {
   "cell_type": "code",
   "execution_count": 14,
   "metadata": {},
   "outputs": [
    {
     "name": "stdout",
     "output_type": "stream",
     "text": [
      "tensor([[-0.4315,  0.5470,  1.3529],\n",
      "        [-0.3887, -0.2623,  0.5266],\n",
      "        [-1.1585, -0.0649, -0.9278],\n",
      "        [ 0.2952, -0.3721, -0.1570],\n",
      "        [ 1.2015, -0.3277,  1.7006]])\n",
      "tensor([ 0.5470, -0.2623, -0.0649, -0.3721, -0.3277])\n"
     ]
    }
   ],
   "source": [
    "print(x)\n",
    "print(x[:,1])"
   ]
  },
  {
   "cell_type": "code",
   "execution_count": 16,
   "metadata": {},
   "outputs": [
    {
     "name": "stdout",
     "output_type": "stream",
     "text": [
      "torch.Size([4, 4]) torch.Size([16]) torch.Size([2, 8])\n"
     ]
    }
   ],
   "source": [
    "x = torch.randn(4,4)\n",
    "y = x.view(16)\n",
    "z=x.view(-1,8)\n",
    "print(x.size(), y.size(), z.size())"
   ]
  },
  {
   "cell_type": "code",
   "execution_count": 18,
   "metadata": {},
   "outputs": [
    {
     "name": "stdout",
     "output_type": "stream",
     "text": [
      "tensor([2.8195])\n",
      "2.81954026222229\n"
     ]
    }
   ],
   "source": [
    "x= torch.randn(1)\n",
    "print(x)\n",
    "print(x.item())"
   ]
  },
  {
   "cell_type": "code",
   "execution_count": 25,
   "metadata": {},
   "outputs": [
    {
     "name": "stdout",
     "output_type": "stream",
     "text": [
      "tensor([1., 1., 1., 1., 1.])\n"
     ]
    }
   ],
   "source": [
    "a = torch.ones(5)\n",
    "print(a)"
   ]
  },
  {
   "cell_type": "code",
   "execution_count": 26,
   "metadata": {},
   "outputs": [
    {
     "name": "stdout",
     "output_type": "stream",
     "text": [
      "[1. 1. 1. 1. 1.]\n"
     ]
    }
   ],
   "source": [
    "b = a.numpy()\n",
    "print(b)"
   ]
  },
  {
   "cell_type": "code",
   "execution_count": 27,
   "metadata": {},
   "outputs": [
    {
     "name": "stdout",
     "output_type": "stream",
     "text": [
      "tensor([2., 2., 2., 2., 2.])\n",
      "[2. 2. 2. 2. 2.]\n"
     ]
    }
   ],
   "source": [
    "a.add_(1)\n",
    "print(a)\n",
    "print(b)"
   ]
  },
  {
   "cell_type": "code",
   "execution_count": 28,
   "metadata": {},
   "outputs": [
    {
     "data": {
      "text/plain": [
       "tensor([3., 3., 3., 3., 3.])"
      ]
     },
     "execution_count": 28,
     "metadata": {},
     "output_type": "execute_result"
    }
   ],
   "source": [
    "a + 1"
   ]
  },
  {
   "cell_type": "code",
   "execution_count": 30,
   "metadata": {},
   "outputs": [
    {
     "name": "stdout",
     "output_type": "stream",
     "text": [
      "[2. 2. 2. 2. 2.]\n",
      "tensor([2., 2., 2., 2., 2.], dtype=torch.float64)\n"
     ]
    }
   ],
   "source": [
    "import numpy as np\n",
    "a =  np.ones(5)\n",
    "b = torch.from_numpy(a)\n",
    "np.add(a,1, out=a)\n",
    "print(a)\n",
    "print(b)"
   ]
  },
  {
   "cell_type": "code",
   "execution_count": 33,
   "metadata": {},
   "outputs": [],
   "source": [
    "if torch.cuda.is_available():\n",
    "    device = torch.device(\"cuda\")\n",
    "    y = torch.ones_like(x, device=device)\n",
    "    x=x.to(device)\n",
    "    z=x+y\n",
    "    print(z)\n",
    "    print(z.to(\"cpu\", torch.double))"
   ]
  },
  {
   "cell_type": "code",
   "execution_count": 38,
   "metadata": {},
   "outputs": [
    {
     "name": "stdout",
     "output_type": "stream",
     "text": [
      "tensor([4., 4., 4., 4., 4.], dtype=torch.float64)\n"
     ]
    }
   ],
   "source": [
    "a\n",
    "print(a.add(b))"
   ]
  },
  {
   "cell_type": "code",
   "execution_count": 44,
   "metadata": {},
   "outputs": [],
   "source": [
    "a=a.view(1,-1)"
   ]
  },
  {
   "cell_type": "code",
   "execution_count": 45,
   "metadata": {},
   "outputs": [
    {
     "data": {
      "text/plain": [
       "tensor([[3.],\n",
       "        [3.],\n",
       "        [3.],\n",
       "        [3.],\n",
       "        [3.]], dtype=torch.float64)"
      ]
     },
     "execution_count": 45,
     "metadata": {},
     "output_type": "execute_result"
    }
   ],
   "source": [
    "a.t_()"
   ]
  },
  {
   "cell_type": "code",
   "execution_count": 47,
   "metadata": {},
   "outputs": [
    {
     "data": {
      "text/plain": [
       "tensor([[3., 3., 3., 3., 3.]], dtype=torch.float64)"
      ]
     },
     "execution_count": 47,
     "metadata": {},
     "output_type": "execute_result"
    }
   ],
   "source": [
    "a.t()"
   ]
  },
  {
   "cell_type": "code",
   "execution_count": null,
   "metadata": {},
   "outputs": [],
   "source": []
  }
 ],
 "metadata": {
  "kernelspec": {
   "display_name": "TM",
   "language": "python",
   "name": "tm"
  },
  "language_info": {
   "codemirror_mode": {
    "name": "ipython",
    "version": 3
   },
   "file_extension": ".py",
   "mimetype": "text/x-python",
   "name": "python",
   "nbconvert_exporter": "python",
   "pygments_lexer": "ipython3",
   "version": "3.6.8"
  }
 },
 "nbformat": 4,
 "nbformat_minor": 2
}
